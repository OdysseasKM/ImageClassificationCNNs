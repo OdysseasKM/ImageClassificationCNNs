{
 "cells": [
  {
   "cell_type": "markdown",
   "metadata": {},
   "source": [
    "DATA LOADING AND SHOWING IMAGE"
   ]
  },
  {
   "cell_type": "code",
   "execution_count": 6,
   "metadata": {},
   "outputs": [
    {
     "name": "stdout",
     "output_type": "stream",
     "text": [
      "Loading MNIST dataset...\n",
      "MNIST dataset loaded.\n"
     ]
    },
    {
     "data": {
      "image/png": "[encoded data removed]",
      "text/plain": [
       "<Figure size 1500x600 with 10 Axes>"
      ]
     },
     "metadata": {},
     "output_type": "display_data"
    }
   ],
   "source": [
    "import os\n",
    "import struct\n",
    "from array import array\n",
    "import numpy as np\n",
    "import matplotlib.pyplot as plt\n",
    "import random\n",
    "\n",
    "class MnistDataloader:\n",
    "    def __init__(self, training_images_filepath, training_labels_filepath, test_images_filepath, test_labels_filepath):\n",
    "        self.training_images_filepath = training_images_filepath\n",
    "        self.training_labels_filepath = training_labels_filepath\n",
    "        self.test_images_filepath = test_images_filepath\n",
    "        self.test_labels_filepath = test_labels_filepath\n",
    "\n",
    "    def read_images_labels(self, images_filepath, labels_filepath):\n",
    "        with open(labels_filepath, 'rb') as file:\n",
    "            magic, size = struct.unpack(\">II\", file.read(8))\n",
    "            if magic != 2049:\n",
    "                raise ValueError(f'Magic number mismatch, expected 2049, got {magic}')\n",
    "            labels = np.frombuffer(file.read(), dtype=np.uint8)\n",
    "\n",
    "        with open(images_filepath, 'rb') as file:\n",
    "            magic, size, rows, cols = struct.unpack(\">IIII\", file.read(16))\n",
    "            if magic != 2051:\n",
    "                raise ValueError(f'Magic number mismatch, expected 2051, got {magic}')\n",
    "            images = np.frombuffer(file.read(), dtype=np.uint8).reshape(size, rows, cols)\n",
    "\n",
    "        return images, labels\n",
    "\n",
    "    def load_data(self):\n",
    "        x_train, y_train = self.read_images_labels(self.training_images_filepath, self.training_labels_filepath)\n",
    "        x_test, y_test = self.read_images_labels(self.test_images_filepath, self.test_labels_filepath)\n",
    "        return (x_train, y_train), (x_test, y_test)\n",
    "\n",
    "# Set file paths relative to the current working directory\n",
    "working_dir = os.getcwd()\n",
    "training_images_filepath = os.path.join(working_dir, 'train-images.idx3-ubyte')\n",
    "training_labels_filepath = os.path.join(working_dir, 'train-labels.idx1-ubyte')\n",
    "test_images_filepath = os.path.join(working_dir, 't10k-images.idx3-ubyte')\n",
    "test_labels_filepath = os.path.join(working_dir, 't10k-labels.idx1-ubyte')\n",
    "\n",
    "# Load MNIST dataset\n",
    "print('Loading MNIST dataset...')\n",
    "mnist_dataloader = MnistDataloader(training_images_filepath, training_labels_filepath, test_images_filepath, test_labels_filepath)\n",
    "(x_train, y_train), (x_test, y_test) = mnist_dataloader.load_data()\n",
    "print('MNIST dataset loaded.')\n",
    "\n",
    "# Show example images\n",
    "def show_images(images, title_texts, cols=5):\n",
    "    rows = len(images) // cols + (len(images) % cols != 0)\n",
    "    plt.figure(figsize=(15, 3 * rows))\n",
    "    for i, (image, title) in enumerate(zip(images, title_texts)):\n",
    "        plt.subplot(rows, cols, i + 1)\n",
    "        plt.imshow(image, cmap='gray')\n",
    "        plt.title(title, fontsize=12)\n",
    "        plt.axis('off')\n",
    "    plt.show()\n",
    "\n",
    "# Function to get one image per class\n",
    "def get_one_image_per_class(images, labels):\n",
    "    class_dict = {i: None for i in range(10)}  # Dictionary to store one image per class\n",
    "    filled_classes = set()\n",
    "\n",
    "    for image, label in zip(images, labels):\n",
    "        if class_dict[label] is None:\n",
    "            class_dict[label] = image\n",
    "            filled_classes.add(label)\n",
    "        if len(filled_classes) == 10:\n",
    "            break\n",
    "\n",
    "    return class_dict\n",
    "\n",
    "# Get one image per class from the training set\n",
    "class_images_train = get_one_image_per_class(x_train, y_train)\n",
    "train_images, train_titles = zip(*[(img, f'training image of {i}') for i, img in class_images_train.items()])\n",
    "\n",
    "\n",
    "# Show images from training set\n",
    "show_images(train_images, train_titles, cols=5)\n",
    "\n",
    "\n"
   ]
  },
  {
   "cell_type": "markdown",
   "metadata": {},
   "source": [
    "TRAINING AND VALIDATION SETS"
   ]
  },
  {
   "cell_type": "code",
   "execution_count": 8,
   "metadata": {},
   "outputs": [
    {
     "name": "stdout",
     "output_type": "stream",
     "text": [
      "Training set:   48000 images\n",
      "Validation set: 12000 images\n"
     ]
    }
   ],
   "source": [
    "from sklearn.model_selection import train_test_split\n",
    "\n",
    "# Split the training data into 80% training and 20% validation\n",
    "x_train, x_valid, y_train, y_valid = train_test_split(x_train, y_train, test_size=0.2, random_state=42)\n",
    "\n",
    "# Display the sizes of the resulting datasets\n",
    "print(f'Training set:   {len(x_train)} images')\n",
    "print(f'Validation set: {len(x_valid)} images')\n",
    "\n"
   ]
  }
 ],
 "metadata": {
  "kernelspec": {
   "display_name": "Python 3",
   "language": "python",
   "name": "python3"
  },
  "language_info": {
   "codemirror_mode": {
    "name": "ipython",
    "version": 3
   },
   "file_extension": ".py",
   "mimetype": "text/x-python",
   "name": "python",
   "nbconvert_exporter": "python",
   "pygments_lexer": "ipython3",
   "version": "3.11.3"
  }
 },
 "nbformat": 4,
 "nbformat_minor": 2
}
